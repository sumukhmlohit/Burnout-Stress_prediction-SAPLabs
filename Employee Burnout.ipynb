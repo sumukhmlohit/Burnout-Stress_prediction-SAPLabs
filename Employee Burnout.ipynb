{
 "cells": [
  {
   "cell_type": "code",
   "execution_count": 3,
   "metadata": {},
   "outputs": [
    {
     "name": "stdout",
     "output_type": "stream",
     "text": [
      "INFO:tensorflow:Enabling eager execution\n",
      "INFO:tensorflow:Enabling v2 tensorshape\n",
      "INFO:tensorflow:Enabling resource variables\n",
      "INFO:tensorflow:Enabling tensor equality\n",
      "INFO:tensorflow:Enabling control flow v2\n"
     ]
    }
   ],
   "source": [
    "import pandas as pd\n",
    "import seaborn as sns\n",
    "import matplotlib.pyplot as plt\n",
    "import numpy as np\n",
    "from sklearn.preprocessing import LabelEncoder\n",
    "from scipy import interpolate\n",
    "\n",
    "from sklearn.model_selection import train_test_split\n",
    "from sklearn.ensemble import RandomForestRegressor\n",
    "from sklearn.metrics import mean_absolute_error\n",
    "from sklearn.metrics import accuracy_score\n",
    "import joblib\n",
    "\n",
    "import tensorflow as tf\n",
    "from tensorflow import keras\n",
    "import pickle\n",
    "\n",
    "import warnings \n",
    "warnings.filterwarnings('ignore')\n",
    "warnings.filterwarnings('ignore', category=DeprecationWarning)"
   ]
  },
  {
   "cell_type": "code",
   "execution_count": 4,
   "metadata": {},
   "outputs": [],
   "source": [
    "train_data = pd.read_csv(\"train.csv\")\n",
    "test_data = pd.read_csv(\"test.csv\")"
   ]
  },
  {
   "cell_type": "code",
   "execution_count": 5,
   "metadata": {
    "scrolled": true
   },
   "outputs": [
    {
     "data": {
      "text/html": [
       "<div>\n",
       "<style scoped>\n",
       "    .dataframe tbody tr th:only-of-type {\n",
       "        vertical-align: middle;\n",
       "    }\n",
       "\n",
       "    .dataframe tbody tr th {\n",
       "        vertical-align: top;\n",
       "    }\n",
       "\n",
       "    .dataframe thead th {\n",
       "        text-align: right;\n",
       "    }\n",
       "</style>\n",
       "<table border=\"1\" class=\"dataframe\">\n",
       "  <thead>\n",
       "    <tr style=\"text-align: right;\">\n",
       "      <th></th>\n",
       "      <th>Employee ID</th>\n",
       "      <th>Date of Joining</th>\n",
       "      <th>Gender</th>\n",
       "      <th>Company Type</th>\n",
       "      <th>WFH Setup Available</th>\n",
       "      <th>Designation</th>\n",
       "      <th>Resource Allocation</th>\n",
       "      <th>Mental Fatigue Score</th>\n",
       "      <th>Burn Rate</th>\n",
       "    </tr>\n",
       "  </thead>\n",
       "  <tbody>\n",
       "    <tr>\n",
       "      <th>0</th>\n",
       "      <td>fffe32003000360033003200</td>\n",
       "      <td>2008-09-30</td>\n",
       "      <td>Female</td>\n",
       "      <td>Service</td>\n",
       "      <td>No</td>\n",
       "      <td>2.0</td>\n",
       "      <td>3.0</td>\n",
       "      <td>3.8</td>\n",
       "      <td>0.16</td>\n",
       "    </tr>\n",
       "    <tr>\n",
       "      <th>1</th>\n",
       "      <td>fffe3700360033003500</td>\n",
       "      <td>2008-11-30</td>\n",
       "      <td>Male</td>\n",
       "      <td>Service</td>\n",
       "      <td>Yes</td>\n",
       "      <td>1.0</td>\n",
       "      <td>2.0</td>\n",
       "      <td>5.0</td>\n",
       "      <td>0.36</td>\n",
       "    </tr>\n",
       "    <tr>\n",
       "      <th>2</th>\n",
       "      <td>fffe31003300320037003900</td>\n",
       "      <td>2008-03-10</td>\n",
       "      <td>Female</td>\n",
       "      <td>Product</td>\n",
       "      <td>Yes</td>\n",
       "      <td>2.0</td>\n",
       "      <td>NaN</td>\n",
       "      <td>5.8</td>\n",
       "      <td>0.49</td>\n",
       "    </tr>\n",
       "    <tr>\n",
       "      <th>3</th>\n",
       "      <td>fffe32003400380032003900</td>\n",
       "      <td>2008-11-03</td>\n",
       "      <td>Male</td>\n",
       "      <td>Service</td>\n",
       "      <td>Yes</td>\n",
       "      <td>1.0</td>\n",
       "      <td>1.0</td>\n",
       "      <td>2.6</td>\n",
       "      <td>0.20</td>\n",
       "    </tr>\n",
       "    <tr>\n",
       "      <th>4</th>\n",
       "      <td>fffe31003900340031003600</td>\n",
       "      <td>2008-07-24</td>\n",
       "      <td>Female</td>\n",
       "      <td>Service</td>\n",
       "      <td>No</td>\n",
       "      <td>3.0</td>\n",
       "      <td>7.0</td>\n",
       "      <td>6.9</td>\n",
       "      <td>0.52</td>\n",
       "    </tr>\n",
       "  </tbody>\n",
       "</table>\n",
       "</div>"
      ],
      "text/plain": [
       "                Employee ID Date of Joining  Gender Company Type  \\\n",
       "0  fffe32003000360033003200      2008-09-30  Female      Service   \n",
       "1      fffe3700360033003500      2008-11-30    Male      Service   \n",
       "2  fffe31003300320037003900      2008-03-10  Female      Product   \n",
       "3  fffe32003400380032003900      2008-11-03    Male      Service   \n",
       "4  fffe31003900340031003600      2008-07-24  Female      Service   \n",
       "\n",
       "  WFH Setup Available  Designation  Resource Allocation  Mental Fatigue Score  \\\n",
       "0                  No          2.0                  3.0                   3.8   \n",
       "1                 Yes          1.0                  2.0                   5.0   \n",
       "2                 Yes          2.0                  NaN                   5.8   \n",
       "3                 Yes          1.0                  1.0                   2.6   \n",
       "4                  No          3.0                  7.0                   6.9   \n",
       "\n",
       "   Burn Rate  \n",
       "0       0.16  \n",
       "1       0.36  \n",
       "2       0.49  \n",
       "3       0.20  \n",
       "4       0.52  "
      ]
     },
     "execution_count": 5,
     "metadata": {},
     "output_type": "execute_result"
    }
   ],
   "source": [
    "train_data.head()"
   ]
  },
  {
   "cell_type": "code",
   "execution_count": 6,
   "metadata": {},
   "outputs": [
    {
     "data": {
      "text/html": [
       "<div>\n",
       "<style scoped>\n",
       "    .dataframe tbody tr th:only-of-type {\n",
       "        vertical-align: middle;\n",
       "    }\n",
       "\n",
       "    .dataframe tbody tr th {\n",
       "        vertical-align: top;\n",
       "    }\n",
       "\n",
       "    .dataframe thead th {\n",
       "        text-align: right;\n",
       "    }\n",
       "</style>\n",
       "<table border=\"1\" class=\"dataframe\">\n",
       "  <thead>\n",
       "    <tr style=\"text-align: right;\">\n",
       "      <th></th>\n",
       "      <th>Employee ID</th>\n",
       "      <th>Date of Joining</th>\n",
       "      <th>Gender</th>\n",
       "      <th>Company Type</th>\n",
       "      <th>WFH Setup Available</th>\n",
       "      <th>Designation</th>\n",
       "      <th>Resource Allocation</th>\n",
       "      <th>Mental Fatigue Score</th>\n",
       "    </tr>\n",
       "  </thead>\n",
       "  <tbody>\n",
       "    <tr>\n",
       "      <th>0</th>\n",
       "      <td>fffe31003300390039003000</td>\n",
       "      <td>2008-12-10</td>\n",
       "      <td>Female</td>\n",
       "      <td>Service</td>\n",
       "      <td>No</td>\n",
       "      <td>2.0</td>\n",
       "      <td>5.0</td>\n",
       "      <td>7.7</td>\n",
       "    </tr>\n",
       "    <tr>\n",
       "      <th>1</th>\n",
       "      <td>fffe31003300310037003800</td>\n",
       "      <td>2008-08-14</td>\n",
       "      <td>Female</td>\n",
       "      <td>Product</td>\n",
       "      <td>Yes</td>\n",
       "      <td>1.0</td>\n",
       "      <td>2.0</td>\n",
       "      <td>5.2</td>\n",
       "    </tr>\n",
       "    <tr>\n",
       "      <th>2</th>\n",
       "      <td>fffe33003400380035003900</td>\n",
       "      <td>2008-11-13</td>\n",
       "      <td>Male</td>\n",
       "      <td>Product</td>\n",
       "      <td>Yes</td>\n",
       "      <td>1.0</td>\n",
       "      <td>3.0</td>\n",
       "      <td>5.9</td>\n",
       "    </tr>\n",
       "    <tr>\n",
       "      <th>3</th>\n",
       "      <td>fffe3100370039003200</td>\n",
       "      <td>2008-02-07</td>\n",
       "      <td>Female</td>\n",
       "      <td>Service</td>\n",
       "      <td>No</td>\n",
       "      <td>3.0</td>\n",
       "      <td>6.0</td>\n",
       "      <td>4.6</td>\n",
       "    </tr>\n",
       "    <tr>\n",
       "      <th>4</th>\n",
       "      <td>fffe32003600390036003700</td>\n",
       "      <td>2008-07-17</td>\n",
       "      <td>Female</td>\n",
       "      <td>Product</td>\n",
       "      <td>No</td>\n",
       "      <td>2.0</td>\n",
       "      <td>5.0</td>\n",
       "      <td>6.4</td>\n",
       "    </tr>\n",
       "  </tbody>\n",
       "</table>\n",
       "</div>"
      ],
      "text/plain": [
       "                Employee ID Date of Joining  Gender Company Type  \\\n",
       "0  fffe31003300390039003000      2008-12-10  Female      Service   \n",
       "1  fffe31003300310037003800      2008-08-14  Female      Product   \n",
       "2  fffe33003400380035003900      2008-11-13    Male      Product   \n",
       "3      fffe3100370039003200      2008-02-07  Female      Service   \n",
       "4  fffe32003600390036003700      2008-07-17  Female      Product   \n",
       "\n",
       "  WFH Setup Available  Designation  Resource Allocation  Mental Fatigue Score  \n",
       "0                  No          2.0                  5.0                   7.7  \n",
       "1                 Yes          1.0                  2.0                   5.2  \n",
       "2                 Yes          1.0                  3.0                   5.9  \n",
       "3                  No          3.0                  6.0                   4.6  \n",
       "4                  No          2.0                  5.0                   6.4  "
      ]
     },
     "execution_count": 6,
     "metadata": {},
     "output_type": "execute_result"
    }
   ],
   "source": [
    "test_data.head()"
   ]
  },
  {
   "cell_type": "markdown",
   "metadata": {},
   "source": [
    "<b> Employee ID:</b> The unique ID allocated for each employee (example: fffe390032003000)\n",
    "\n",
    "<b>Date of Joining:</b> The date-time when the employee has joined the organization (example: 2008-12-30)\n",
    "\n",
    "<b>Gender:</b> The gender of the employee (Male/Female)\n",
    "\n",
    "<b>Company Type:</b> The type of company where the employee is working (Service/Product)\n",
    "\n",
    "<b>WFH Setup Available:</b> Is the work from home facility available for the employee (Yes/No)\n",
    "\n",
    "<b>Designation:</b> The designation of the employee of work in the organization.\n",
    "In the range of [0.0, 5.0] bigger is higher designation.\n",
    "\n",
    "<b>Resource Allocation:</b> The amount of resource allocated to the employee to work, ie. number of working hours.\n",
    "In the range of [1.0, 10.0] (higher means more resource)\n",
    "\n",
    "<b>Mental Fatigue Score:</b> The level of fatigue mentally the employee is facing.\n",
    "In the range of [0.0, 10.0] where 0.0 means no fatigue and 10.0 means completely fatigue.\n",
    "\n",
    "<b>Burn Rate:</b> The value we need to predict for each employee telling the rate of Bur out while working.\n",
    "In the range of [0.0, 1.0] where the higher the value is more is the burn out."
   ]
  },
  {
   "cell_type": "code",
   "execution_count": 7,
   "metadata": {},
   "outputs": [
    {
     "name": "stdout",
     "output_type": "stream",
     "text": [
      "Dimensions of training data  (22750, 9)\n",
      "Dimensions of testing data  (12250, 8)\n"
     ]
    }
   ],
   "source": [
    "print(\"Dimensions of training data \", train_data.shape)\n",
    "print(\"Dimensions of testing data \", test_data.shape)"
   ]
  },
  {
   "cell_type": "code",
   "execution_count": 8,
   "metadata": {},
   "outputs": [
    {
     "data": {
      "text/plain": [
       "Employee ID                0\n",
       "Date of Joining            0\n",
       "Gender                     0\n",
       "Company Type               0\n",
       "WFH Setup Available        0\n",
       "Designation                0\n",
       "Resource Allocation     1381\n",
       "Mental Fatigue Score    2117\n",
       "Burn Rate               1124\n",
       "dtype: int64"
      ]
     },
     "execution_count": 8,
     "metadata": {},
     "output_type": "execute_result"
    }
   ],
   "source": [
    "train_data.isnull().sum()"
   ]
  },
  {
   "cell_type": "markdown",
   "metadata": {},
   "source": [
    "<b> As a part of preprocessing certain things are to be done </b>\n",
    "\n",
    "1. Convert string or character values to encoded values.\n",
    "\n",
    "2. Find the correlation between each of the fields which can help in filling NaN.\n",
    "\n",
    "3. Fill NAN for <b>Resource Allocation</b> by comparing with <b>Designation</b>.\n",
    "\n",
    "4. Remove all rows where both <b>Mental Fatigue Score</b> and <b>Burn Rate</b> were empty as each is dependent on another.\n",
    "\n",
    "5. Interpolate the missing <b>Mental Fatigue Score</b> and <b> Burn Rate </b> values.\n",
    "\n",
    "6. Finally delete all other rows which have NaN values."
   ]
  },
  {
   "cell_type": "code",
   "execution_count": 9,
   "metadata": {},
   "outputs": [],
   "source": [
    "# Perform encoding of categorical data before imputing the other missing values\n",
    "\n",
    "# creating instance of labelencoder\n",
    "labelencoder = LabelEncoder()\n",
    "\n",
    "gender_encoded_train = labelencoder.fit_transform(train_data['Gender'])\n",
    "gender_encoded_test = labelencoder.fit_transform(test_data['Gender'])\n",
    "# Female = 0 , # Male = 1\n",
    "\n",
    "wfh_setup_encoded_train = labelencoder.fit_transform(train_data['WFH Setup Available'])\n",
    "wfh_setup_encoded_test = labelencoder.fit_transform(test_data['WFH Setup Available'])\n",
    "# No = 0, # Yes = 1\n",
    "\n",
    "company_type_encoded_train = labelencoder.fit_transform(train_data['Company Type'])\n",
    "company_type_encoded_test = labelencoder.fit_transform(test_data['Company Type'])\n",
    "# Product = 0, # Service = 1"
   ]
  },
  {
   "cell_type": "code",
   "execution_count": 10,
   "metadata": {},
   "outputs": [],
   "source": [
    "train_data.insert(loc=2, column='Gender_Encoded', value=gender_encoded_train)\n",
    "train_data.insert(loc=3, column='WFH_Setup_Encoded', value=wfh_setup_encoded_train)\n",
    "train_data.insert(loc=4, column='Company_Type_Encoded', value=company_type_encoded_train)\n",
    "\n",
    "train_data.drop(columns=[\"Gender\", \"Company Type\", \"WFH Setup Available\"], axis=1, inplace=True)\n",
    "\n",
    "test_data.insert(loc=2, column='Gender_Encoded', value=gender_encoded_test)\n",
    "test_data.insert(loc=3, column='WFH_Setup_Encoded', value=wfh_setup_encoded_test)\n",
    "test_data.insert(loc=4, column='Company_Type_Encoded', value=company_type_encoded_test)\n",
    "\n",
    "test_data.drop(columns=[\"Gender\", \"Company Type\", \"WFH Setup Available\"], axis=1, inplace=True)"
   ]
  },
  {
   "cell_type": "code",
   "execution_count": 11,
   "metadata": {},
   "outputs": [
    {
     "data": {
      "text/plain": [
       "array([[<AxesSubplot:title={'center':'Gender_Encoded'}>,\n",
       "        <AxesSubplot:title={'center':'WFH_Setup_Encoded'}>,\n",
       "        <AxesSubplot:title={'center':'Company_Type_Encoded'}>],\n",
       "       [<AxesSubplot:title={'center':'Designation'}>,\n",
       "        <AxesSubplot:title={'center':'Resource Allocation'}>,\n",
       "        <AxesSubplot:title={'center':'Mental Fatigue Score'}>],\n",
       "       [<AxesSubplot:title={'center':'Burn Rate'}>, <AxesSubplot:>,\n",
       "        <AxesSubplot:>]], dtype=object)"
      ]
     },
     "execution_count": 11,
     "metadata": {},
     "output_type": "execute_result"
    },
    {
     "data": {
      "image/png": "[encoded data removed]",
      "text/plain": [
       "<Figure size 1080x720 with 9 Axes>"
      ]
     },
     "metadata": {
      "needs_background": "light"
     },
     "output_type": "display_data"
    }
   ],
   "source": [
    "train_data.hist(bins=30, figsize=(15, 10))"
   ]
  },
  {
   "cell_type": "code",
   "execution_count": 14,
   "metadata": {},
   "outputs": [
    {
     "data": {
      "image/png": "[encoded data removed]",
      "text/plain": [
       "<Figure size 1152x432 with 2 Axes>"
      ]
     },
     "metadata": {
      "needs_background": "light"
     },
     "output_type": "display_data"
    }
   ],
   "source": [
    "# Increase the size of the heatmap.\n",
    "plt.figure(figsize=(16, 6))\n",
    "# Store heatmap object in a variable to easily access it when you want to include more features (such as title).\n",
    "# Set the range of values to be displayed on the colormap from -1 to 1, and set the annotation to True to display the correlation values on the heatmap.\n",
    "heatmap = sns.heatmap(train_data.corr(), vmin=-1, vmax=1, annot=True)"
   ]
  },
  {
   "cell_type": "code",
   "execution_count": 18,
   "metadata": {},
   "outputs": [
    {
     "data": {
      "image/png": "[encoded data removed]",
      "text/plain": [
       "<Figure size 1440x1440 with 3 Axes>"
      ]
     },
     "metadata": {
      "needs_background": "light"
     },
     "output_type": "display_data"
    }
   ],
   "source": [
    "eda_df = train_data.drop(columns=['Burn Rate','Employee ID','Date of Joining'], axis=1).copy()\n",
    "nonbinary_columns = [column for column in eda_df.columns if len(eda_df[column].unique()) > 2]\n",
    "\n",
    "plt.figure(figsize=(20, 20))\n",
    "\n",
    "for i, column in enumerate(nonbinary_columns):\n",
    "    plt.subplot(3, 7, i + 1)\n",
    "    sns.boxplot(data=eda_df[column], color='darkviolet')\n",
    "    plt.title(column)\n",
    "\n",
    "plt.suptitle(\"Boxplots With Outliers\", size=30)\n",
    "plt.show()"
   ]
  },
  {
   "cell_type": "code",
   "execution_count": 19,
   "metadata": {
    "scrolled": true
   },
   "outputs": [
    {
     "data": {
      "image/png": "[encoded data removed]",
      "text/plain": [
       "<Figure size 432x360 with 1 Axes>"
      ]
     },
     "metadata": {
      "needs_background": "light"
     },
     "output_type": "display_data"
    }
   ],
   "source": [
    "# Now to fill the resource allocation column, it is heavily correlated with the designation\n",
    "# Hence filling the values of resource allocation accordingly\n",
    "\n",
    "\n",
    "plt.figure(figsize=(6, 5))\n",
    "plt.scatter(\"Designation\", \"Resource Allocation\", data=train_data, c=\"darkred\")\n",
    "plt.xlabel(\"Designation\")\n",
    "plt.ylabel(\"Resource Allocation\")\n",
    "plt.yticks(range(0,11))\n",
    "plt.show()"
   ]
  },
  {
   "cell_type": "code",
   "execution_count": 20,
   "metadata": {},
   "outputs": [
    {
     "name": "stdout",
     "output_type": "stream",
     "text": [
      "1.0    1142\n",
      "2.0     262\n",
      "3.0      17\n",
      "Name: Resource Allocation, dtype: int64\n",
      "3.0    1682\n",
      "2.0    1475\n",
      "4.0     735\n",
      "1.0     635\n",
      "5.0      59\n",
      "Name: Resource Allocation, dtype: int64\n",
      "4.0    2564\n",
      "5.0    2009\n",
      "3.0    1479\n",
      "6.0     652\n",
      "2.0     338\n",
      "7.0      52\n",
      "1.0      14\n",
      "Name: Resource Allocation, dtype: int64\n",
      "6.0    1952\n",
      "5.0    1783\n",
      "7.0    1056\n",
      "4.0     594\n",
      "8.0     224\n",
      "3.0      14\n",
      "9.0       7\n",
      "Name: Resource Allocation, dtype: int64\n",
      "7.0     857\n",
      "8.0     757\n",
      "6.0     339\n",
      "9.0     263\n",
      "10.0     25\n",
      "5.0      10\n",
      "Name: Resource Allocation, dtype: int64\n",
      "9.0     176\n",
      "10.0    134\n",
      "8.0      63\n",
      "Name: Resource Allocation, dtype: int64\n"
     ]
    }
   ],
   "source": [
    "# Get min, max, mean, median values for each designation and resource allocation correlation\n",
    "\n",
    "for i in range(6):    # 0 to 5, Designation values\n",
    "    temp_value = train_data[\"Resource Allocation\"][train_data[\"Designation\"]==i]\n",
    "    indices = (train_data[\"Designation\"]==i) & train_data[\"Resource Allocation\"].isna()\n",
    "    print(temp_value.value_counts())\n",
    "    \n",
    "    # As resource allocation has considerable amount of impact on burnout rate\n",
    "    # Fill accordingly either as mean or median\n",
    "    train_data.loc[indices, \"Resource Allocation\"] = temp_value.median()\n"
   ]
  },
  {
   "cell_type": "code",
   "execution_count": 21,
   "metadata": {
    "scrolled": false
   },
   "outputs": [
    {
     "data": {
      "text/plain": [
       "Employee ID                0\n",
       "Date of Joining            0\n",
       "Gender_Encoded             0\n",
       "WFH_Setup_Encoded          0\n",
       "Company_Type_Encoded       0\n",
       "Designation                0\n",
       "Resource Allocation        0\n",
       "Mental Fatigue Score    2117\n",
       "Burn Rate               1124\n",
       "dtype: int64"
      ]
     },
     "execution_count": 21,
     "metadata": {},
     "output_type": "execute_result"
    }
   ],
   "source": [
    "train_data.isnull().sum()"
   ]
  },
  {
   "cell_type": "code",
   "execution_count": 22,
   "metadata": {},
   "outputs": [
    {
     "name": "stdout",
     "output_type": "stream",
     "text": [
      "Number of rows with both fatigue and burnout as null  (172,)\n"
     ]
    },
    {
     "data": {
      "text/plain": [
       "Employee ID                0\n",
       "Date of Joining            0\n",
       "Gender_Encoded             0\n",
       "WFH_Setup_Encoded          0\n",
       "Company_Type_Encoded       0\n",
       "Designation                0\n",
       "Resource Allocation        0\n",
       "Mental Fatigue Score    1945\n",
       "Burn Rate                952\n",
       "dtype: int64"
      ]
     },
     "execution_count": 22,
     "metadata": {},
     "output_type": "execute_result"
    }
   ],
   "source": [
    "# Remove fields that have both burnout and mental fatigue as NAN. \n",
    "# This is because, mental fatigue is directly correlated to burnout. A double NAN would be a problem\n",
    "\n",
    "mental_fatigue_nan = train_data[\"Mental Fatigue Score\"].isna()\n",
    "burn_rate_nan = train_data[\"Burn Rate\"].isna()\n",
    "fatigue_burnout_nan_indices = train_data[burn_rate_nan & mental_fatigue_nan].index\n",
    "\n",
    "print(\"Number of rows with both fatigue and burnout as null \", fatigue_burnout_nan_indices.shape)\n",
    "\n",
    "train_data.drop(index = fatigue_burnout_nan_indices, axis = 0, inplace = True)\n",
    "train_data.isnull().sum()"
   ]
  },
  {
   "cell_type": "code",
   "execution_count": 23,
   "metadata": {},
   "outputs": [],
   "source": [
    "# function to find the burn rate\n",
    "fn_burn = interpolate.interp1d(x=train_data[\"Mental Fatigue Score\"], \n",
    "                               y=train_data[\"Burn Rate\"], \n",
    "                               kind=\"linear\", \n",
    "                               fill_value=None)\n",
    "# function to find the mental fatigue score\n",
    "fn_mental = interpolate.interp1d(y=train_data[\"Mental Fatigue Score\"], \n",
    "                                 x=train_data[\"Burn Rate\"], \n",
    "                                 kind=\"linear\", \n",
    "                                 fill_value=None)"
   ]
  },
  {
   "cell_type": "code",
   "execution_count": 24,
   "metadata": {},
   "outputs": [],
   "source": [
    "# get rid of these NaNs\n",
    "for i in train_data[train_data[\"Burn Rate\"].isna()].index:\n",
    "    train_data.loc[i, \"Burn Rate\"] = fn_burn(train_data.loc[i, \"Mental Fatigue Score\"])\n",
    "    \n",
    "for i in train_data[train_data[\"Mental Fatigue Score\"].isna()].index:\n",
    "    train_data.loc[i, \"Mental Fatigue Score\"] = fn_mental(train_data.loc[i, \"Burn Rate\"])"
   ]
  },
  {
   "cell_type": "code",
   "execution_count": 25,
   "metadata": {
    "scrolled": true
   },
   "outputs": [
    {
     "data": {
      "text/plain": [
       "Employee ID               0\n",
       "Date of Joining           0\n",
       "Gender_Encoded            0\n",
       "WFH_Setup_Encoded         0\n",
       "Company_Type_Encoded      0\n",
       "Designation               0\n",
       "Resource Allocation       0\n",
       "Mental Fatigue Score    201\n",
       "Burn Rate                79\n",
       "dtype: int64"
      ]
     },
     "execution_count": 25,
     "metadata": {},
     "output_type": "execute_result"
    }
   ],
   "source": [
    "train_data.isnull().sum()"
   ]
  },
  {
   "cell_type": "code",
   "execution_count": 26,
   "metadata": {},
   "outputs": [
    {
     "data": {
      "text/plain": [
       "(22298, 8)"
      ]
     },
     "execution_count": 26,
     "metadata": {},
     "output_type": "execute_result"
    }
   ],
   "source": [
    "# Now remove all rows which have NaN. Best possible level of data imputation has been performed\n",
    "train_data = train_data.dropna()\n",
    "\n",
    "# Remove the Date-of-Joining column as it is not influential to our model\n",
    "train_data.drop(['Date of Joining'], axis=1, inplace=True)\n",
    "test_data.drop(['Date of Joining'], axis=1, inplace=True)\n",
    "train_data.shape"
   ]
  },
  {
   "cell_type": "code",
   "execution_count": 18,
   "metadata": {},
   "outputs": [
    {
     "data": {
      "text/html": [
       "<div>\n",
       "<style scoped>\n",
       "    .dataframe tbody tr th:only-of-type {\n",
       "        vertical-align: middle;\n",
       "    }\n",
       "\n",
       "    .dataframe tbody tr th {\n",
       "        vertical-align: top;\n",
       "    }\n",
       "\n",
       "    .dataframe thead th {\n",
       "        text-align: right;\n",
       "    }\n",
       "</style>\n",
       "<table border=\"1\" class=\"dataframe\">\n",
       "  <thead>\n",
       "    <tr style=\"text-align: right;\">\n",
       "      <th></th>\n",
       "      <th>Employee ID</th>\n",
       "      <th>Gender_Encoded</th>\n",
       "      <th>WFH_Setup_Encoded</th>\n",
       "      <th>Company_Type_Encoded</th>\n",
       "      <th>Designation</th>\n",
       "      <th>Resource Allocation</th>\n",
       "      <th>Mental Fatigue Score</th>\n",
       "      <th>Burn Rate</th>\n",
       "    </tr>\n",
       "  </thead>\n",
       "  <tbody>\n",
       "    <tr>\n",
       "      <th>0</th>\n",
       "      <td>fffe32003000360033003200</td>\n",
       "      <td>0</td>\n",
       "      <td>0</td>\n",
       "      <td>1</td>\n",
       "      <td>2.0</td>\n",
       "      <td>3.0</td>\n",
       "      <td>3.8</td>\n",
       "      <td>0.16</td>\n",
       "    </tr>\n",
       "    <tr>\n",
       "      <th>1</th>\n",
       "      <td>fffe3700360033003500</td>\n",
       "      <td>1</td>\n",
       "      <td>1</td>\n",
       "      <td>1</td>\n",
       "      <td>1.0</td>\n",
       "      <td>2.0</td>\n",
       "      <td>5.0</td>\n",
       "      <td>0.36</td>\n",
       "    </tr>\n",
       "    <tr>\n",
       "      <th>2</th>\n",
       "      <td>fffe31003300320037003900</td>\n",
       "      <td>0</td>\n",
       "      <td>1</td>\n",
       "      <td>0</td>\n",
       "      <td>2.0</td>\n",
       "      <td>4.0</td>\n",
       "      <td>5.8</td>\n",
       "      <td>0.49</td>\n",
       "    </tr>\n",
       "    <tr>\n",
       "      <th>3</th>\n",
       "      <td>fffe32003400380032003900</td>\n",
       "      <td>1</td>\n",
       "      <td>1</td>\n",
       "      <td>1</td>\n",
       "      <td>1.0</td>\n",
       "      <td>1.0</td>\n",
       "      <td>2.6</td>\n",
       "      <td>0.20</td>\n",
       "    </tr>\n",
       "    <tr>\n",
       "      <th>4</th>\n",
       "      <td>fffe31003900340031003600</td>\n",
       "      <td>0</td>\n",
       "      <td>0</td>\n",
       "      <td>1</td>\n",
       "      <td>3.0</td>\n",
       "      <td>7.0</td>\n",
       "      <td>6.9</td>\n",
       "      <td>0.52</td>\n",
       "    </tr>\n",
       "  </tbody>\n",
       "</table>\n",
       "</div>"
      ],
      "text/plain": [
       "                Employee ID  Gender_Encoded  WFH_Setup_Encoded  \\\n",
       "0  fffe32003000360033003200               0                  0   \n",
       "1      fffe3700360033003500               1                  1   \n",
       "2  fffe31003300320037003900               0                  1   \n",
       "3  fffe32003400380032003900               1                  1   \n",
       "4  fffe31003900340031003600               0                  0   \n",
       "\n",
       "   Company_Type_Encoded  Designation  Resource Allocation  \\\n",
       "0                     1          2.0                  3.0   \n",
       "1                     1          1.0                  2.0   \n",
       "2                     0          2.0                  4.0   \n",
       "3                     1          1.0                  1.0   \n",
       "4                     1          3.0                  7.0   \n",
       "\n",
       "   Mental Fatigue Score  Burn Rate  \n",
       "0                   3.8       0.16  \n",
       "1                   5.0       0.36  \n",
       "2                   5.8       0.49  \n",
       "3                   2.6       0.20  \n",
       "4                   6.9       0.52  "
      ]
     },
     "execution_count": 18,
     "metadata": {},
     "output_type": "execute_result"
    }
   ],
   "source": [
    "train_data.head()"
   ]
  },
  {
   "cell_type": "code",
   "execution_count": 27,
   "metadata": {},
   "outputs": [
    {
     "name": "stdout",
     "output_type": "stream",
     "text": [
      "Train Data dimensions  (16723, 6)  ---  (16723,)\n",
      "Validation Data dimensions  (5575, 6)  ---  (5575,)\n",
      "Test Data dimensions  (12250, 6)  --- \n"
     ]
    }
   ],
   "source": [
    "# START Processing of the data\n",
    "\n",
    "X = train_data.iloc[:, 1:-1]\n",
    "Y = train_data.iloc[:, -1]\n",
    "\n",
    "X_train, X_validation, Y_train, Y_validation = train_test_split(X, Y, test_size=0.25, shuffle = True)\n",
    "\n",
    "X_test = test_data.iloc[:, 1:]\n",
    "Y_test = None\n",
    "print(\"Train Data dimensions \", X_train.shape, \" --- \" , Y_train.shape)\n",
    "print(\"Validation Data dimensions \", X_validation.shape, \" --- \", Y_validation.shape)\n",
    "print(\"Test Data dimensions \", X_test.shape, \" --- \")"
   ]
  },
  {
   "cell_type": "code",
   "execution_count": 29,
   "metadata": {},
   "outputs": [
    {
     "name": "stdout",
     "output_type": "stream",
     "text": [
      "Coefficients: \n",
      " [ 0.0038488  -0.01122518  0.00114286 -0.00510233  0.02696336  0.07576143]\n",
      "Mean squared error: 0.00\n",
      "Coefficient of determination: 0.92\n",
      "99.94272204459601\n"
     ]
    }
   ],
   "source": [
    "from sklearn.linear_model import LinearRegression\n",
    "reg = LinearRegression().fit(X_train, Y_train)\n",
    "y_pred = reg.predict(X_validation)\n",
    "from sklearn.metrics import mean_squared_error, r2_score\n",
    "\n",
    "# The coefficients\n",
    "print('Coefficients: \\n', reg.coef_)\n",
    "# The mean squared error\n",
    "print('Mean squared error: %.2f'\n",
    "      % mean_squared_error(Y_validation, y_pred))\n",
    "# The coefficient of determination: 1 is perfect prediction\n",
    "print('Coefficient of determination: %.2f'\n",
    "      % r2_score(Y_validation, y_pred))\n",
    "\n",
    "print(max(0,100-np.sqrt(mean_squared_error(Y_validation,y_pred))))"
   ]
  },
  {
   "cell_type": "code",
   "execution_count": 34,
   "metadata": {},
   "outputs": [
    {
     "name": "stdout",
     "output_type": "stream",
     "text": [
      "Coefficients: \n",
      " [ 0.0038488  -0.01122518  0.00114286 -0.00510233  0.02696336  0.07576143]\n",
      "Mean squared error: 0.00\n",
      "Coefficient of determination: 0.92\n",
      "99.94272210021114\n"
     ]
    }
   ],
   "source": [
    "from sklearn.linear_model import Ridge\n",
    "ridge = Ridge(alpha=0.5).fit(X_train, Y_train)\n",
    "y_pred_rid = ridge.predict(X_validation)\n",
    "\n",
    "from sklearn.metrics import mean_squared_error, r2_score\n",
    "\n",
    "# The coefficients\n",
    "print('Coefficients: \\n', reg.coef_)\n",
    "# The mean squared error\n",
    "print('Mean squared error: %.2f'\n",
    "      % mean_squared_error(Y_validation, y_pred_rid))\n",
    "# The coefficient of determination: 1 is perfect prediction\n",
    "print('Coefficient of determination: %.2f'\n",
    "      % r2_score(Y_validation, y_pred_rid))\n",
    "\n",
    "print(max(0,100-np.sqrt(mean_squared_error(Y_validation,y_pred_rid))))"
   ]
  },
  {
   "cell_type": "code",
   "execution_count": 35,
   "metadata": {},
   "outputs": [
    {
     "name": "stdout",
     "output_type": "stream",
     "text": [
      "Coefficients: \n",
      " [ 0.0038488  -0.01122518  0.00114286 -0.00510233  0.02696336  0.07576143]\n",
      "Mean squared error: 0.01\n",
      "Coefficient of determination: 0.85\n",
      "99.9225172351758\n"
     ]
    }
   ],
   "source": [
    "from sklearn.linear_model import Lasso\n",
    "lasso = Lasso(alpha=0.096).fit(X_train, Y_train)\n",
    "y_pred_las = lasso.predict(X_validation)\n",
    "\n",
    "from sklearn.metrics import mean_squared_error, r2_score\n",
    "\n",
    "# The coefficients\n",
    "print('Coefficients: \\n', reg.coef_)\n",
    "# The mean squared error\n",
    "print('Mean squared error: %.2f'\n",
    "      % mean_squared_error(Y_validation, y_pred_las))\n",
    "# The coefficient of determination: 1 is perfect prediction\n",
    "print('Coefficient of determination: %.2f'\n",
    "      % r2_score(Y_validation, y_pred_las))\n",
    "\n",
    "print(max(0,100-np.sqrt(mean_squared_error(Y_validation,y_pred_las))))"
   ]
  },
  {
   "cell_type": "code",
   "execution_count": 24,
   "metadata": {},
   "outputs": [
    {
     "name": "stdout",
     "output_type": "stream",
     "text": [
      "Model: \"sequential_1\"\n",
      "_________________________________________________________________\n",
      "Layer (type)                 Output Shape              Param #   \n",
      "=================================================================\n",
      "dense_5 (Dense)              (None, 128)               896       \n",
      "_________________________________________________________________\n",
      "dense_6 (Dense)              (None, 256)               33024     \n",
      "_________________________________________________________________\n",
      "dense_7 (Dense)              (None, 256)               65792     \n",
      "_________________________________________________________________\n",
      "dense_8 (Dense)              (None, 256)               65792     \n",
      "_________________________________________________________________\n",
      "dense_9 (Dense)              (None, 1)                 257       \n",
      "=================================================================\n",
      "Total params: 165,761\n",
      "Trainable params: 165,761\n",
      "Non-trainable params: 0\n",
      "_________________________________________________________________\n"
     ]
    }
   ],
   "source": [
    "NN_model = keras.Sequential()\n",
    "\n",
    "# The Input Layer :\n",
    "NN_model.add(keras.layers.Dense(128, kernel_initializer='normal',input_dim = X_train.shape[1], activation='relu'))\n",
    "\n",
    "# The Hidden Layers :\n",
    "NN_model.add(keras.layers.Dense(256, kernel_initializer='normal',activation='softmax'))\n",
    "NN_model.add(keras.layers.Dense(256, kernel_initializer='normal',activation='softmax'))\n",
    "NN_model.add(keras.layers.Dense(256, kernel_initializer='normal',activation='softmax'))\n",
    "\n",
    "# The Output Layer :\n",
    "NN_model.add(keras.layers.Dense(1, kernel_initializer='normal',activation='sigmoid'))\n",
    "\n",
    "# Compile the network :\n",
    "NN_model.compile(loss='mean_absolute_error', optimizer='adam', metrics=['mean_absolute_error'])\n",
    "NN_model.summary()"
   ]
  },
  {
   "cell_type": "code",
   "execution_count": 25,
   "metadata": {},
   "outputs": [
    {
     "name": "stdout",
     "output_type": "stream",
     "text": [
      "Train on 16824 samples, validate on 5609 samples\n",
      "Epoch 1/75\n",
      "16824/16824 [==============================] - 2s 137us/sample - loss: 0.1594 - mean_absolute_error: 0.1594 - val_loss: 0.1595 - val_mean_absolute_error: 0.1595\n",
      "Epoch 2/75\n",
      "16824/16824 [==============================] - 2s 128us/sample - loss: 0.1590 - mean_absolute_error: 0.1590 - val_loss: 0.1595 - val_mean_absolute_error: 0.1595\n",
      "Epoch 3/75\n",
      "16824/16824 [==============================] - 2s 124us/sample - loss: 0.1590 - mean_absolute_error: 0.1590 - val_loss: 0.1595 - val_mean_absolute_error: 0.1595\n",
      "Epoch 4/75\n",
      "16824/16824 [==============================] - 2s 140us/sample - loss: 0.1590 - mean_absolute_error: 0.1590 - val_loss: 0.1595 - val_mean_absolute_error: 0.1595\n",
      "Epoch 5/75\n",
      "16824/16824 [==============================] - 2s 126us/sample - loss: 0.1590 - mean_absolute_error: 0.1590 - val_loss: 0.1594 - val_mean_absolute_error: 0.1594\n",
      "Epoch 6/75\n",
      "16824/16824 [==============================] - 2s 128us/sample - loss: 0.1543 - mean_absolute_error: 0.1543 - val_loss: 0.1255 - val_mean_absolute_error: 0.1255\n",
      "Epoch 7/75\n",
      "16824/16824 [==============================] - 2s 141us/sample - loss: 0.0841 - mean_absolute_error: 0.0841 - val_loss: 0.0639 - val_mean_absolute_error: 0.0639\n",
      "Epoch 8/75\n",
      "16824/16824 [==============================] - 2s 128us/sample - loss: 0.0585 - mean_absolute_error: 0.0585 - val_loss: 0.0548 - val_mean_absolute_error: 0.0548\n",
      "Epoch 9/75\n",
      "16824/16824 [==============================] - 2s 143us/sample - loss: 0.0532 - mean_absolute_error: 0.0532 - val_loss: 0.0513 - val_mean_absolute_error: 0.0513\n",
      "Epoch 10/75\n",
      "16824/16824 [==============================] - 2s 136us/sample - loss: 0.0504 - mean_absolute_error: 0.0504 - val_loss: 0.0497 - val_mean_absolute_error: 0.0497\n",
      "Epoch 11/75\n",
      "16824/16824 [==============================] - 2s 134us/sample - loss: 0.0494 - mean_absolute_error: 0.0494 - val_loss: 0.0521 - val_mean_absolute_error: 0.0521\n",
      "Epoch 12/75\n",
      "16824/16824 [==============================] - 2s 138us/sample - loss: 0.0485 - mean_absolute_error: 0.0485 - val_loss: 0.0497 - val_mean_absolute_error: 0.0497\n",
      "Epoch 13/75\n",
      "16824/16824 [==============================] - 3s 162us/sample - loss: 0.0479 - mean_absolute_error: 0.0479 - val_loss: 0.0481 - val_mean_absolute_error: 0.0481\n",
      "Epoch 14/75\n",
      "16824/16824 [==============================] - 2s 131us/sample - loss: 0.0474 - mean_absolute_error: 0.0474 - val_loss: 0.0479 - val_mean_absolute_error: 0.0479\n",
      "Epoch 15/75\n",
      "16824/16824 [==============================] - 2s 144us/sample - loss: 0.0476 - mean_absolute_error: 0.0476 - val_loss: 0.0479 - val_mean_absolute_error: 0.0479\n",
      "Epoch 16/75\n",
      "16824/16824 [==============================] - 2s 133us/sample - loss: 0.0469 - mean_absolute_error: 0.0469 - val_loss: 0.0473 - val_mean_absolute_error: 0.0473\n",
      "Epoch 17/75\n",
      "16824/16824 [==============================] - 2s 130us/sample - loss: 0.0467 - mean_absolute_error: 0.0467 - val_loss: 0.0483 - val_mean_absolute_error: 0.0483\n",
      "Epoch 18/75\n",
      "16824/16824 [==============================] - 2s 131us/sample - loss: 0.0465 - mean_absolute_error: 0.0465 - val_loss: 0.0476 - val_mean_absolute_error: 0.0476\n",
      "Epoch 19/75\n",
      "16824/16824 [==============================] - 2s 131us/sample - loss: 0.0465 - mean_absolute_error: 0.0465 - val_loss: 0.0466 - val_mean_absolute_error: 0.0466\n",
      "Epoch 20/75\n",
      "16824/16824 [==============================] - 2s 133us/sample - loss: 0.0463 - mean_absolute_error: 0.0463 - val_loss: 0.0480 - val_mean_absolute_error: 0.0480\n",
      "Epoch 21/75\n",
      "16824/16824 [==============================] - 2s 145us/sample - loss: 0.0463 - mean_absolute_error: 0.0463 - val_loss: 0.0463 - val_mean_absolute_error: 0.0463\n",
      "Epoch 22/75\n",
      "16824/16824 [==============================] - 2s 133us/sample - loss: 0.0458 - mean_absolute_error: 0.0458 - val_loss: 0.0469 - val_mean_absolute_error: 0.0469\n",
      "Epoch 23/75\n",
      "16824/16824 [==============================] - 2s 133us/sample - loss: 0.0459 - mean_absolute_error: 0.0459 - val_loss: 0.0475 - val_mean_absolute_error: 0.0475\n",
      "Epoch 24/75\n",
      "16824/16824 [==============================] - 2s 123us/sample - loss: 0.0458 - mean_absolute_error: 0.0458 - val_loss: 0.0464 - val_mean_absolute_error: 0.0464\n",
      "Epoch 25/75\n",
      "16824/16824 [==============================] - 2s 121us/sample - loss: 0.0458 - mean_absolute_error: 0.0458 - val_loss: 0.0460 - val_mean_absolute_error: 0.0460\n",
      "Epoch 26/75\n",
      "16824/16824 [==============================] - 2s 124us/sample - loss: 0.0458 - mean_absolute_error: 0.0458 - val_loss: 0.0462 - val_mean_absolute_error: 0.0462\n",
      "Epoch 27/75\n",
      "16824/16824 [==============================] - 2s 123us/sample - loss: 0.0455 - mean_absolute_error: 0.0455 - val_loss: 0.0457 - val_mean_absolute_error: 0.0457\n",
      "Epoch 28/75\n",
      "16824/16824 [==============================] - 2s 124us/sample - loss: 0.0455 - mean_absolute_error: 0.0455 - val_loss: 0.0458 - val_mean_absolute_error: 0.0458\n",
      "Epoch 29/75\n",
      "16824/16824 [==============================] - 2s 128us/sample - loss: 0.0454 - mean_absolute_error: 0.0454 - val_loss: 0.0461 - val_mean_absolute_error: 0.0461\n",
      "Epoch 30/75\n",
      "16824/16824 [==============================] - 2s 128us/sample - loss: 0.0454 - mean_absolute_error: 0.0454 - val_loss: 0.0459 - val_mean_absolute_error: 0.0459\n",
      "Epoch 31/75\n",
      "16824/16824 [==============================] - 2s 127us/sample - loss: 0.0454 - mean_absolute_error: 0.0454 - val_loss: 0.0460 - val_mean_absolute_error: 0.0460\n",
      "Epoch 32/75\n",
      "16824/16824 [==============================] - 2s 129us/sample - loss: 0.0453 - mean_absolute_error: 0.0453 - val_loss: 0.0459 - val_mean_absolute_error: 0.0459\n",
      "Epoch 33/75\n",
      "16824/16824 [==============================] - 2s 129us/sample - loss: 0.0451 - mean_absolute_error: 0.0451 - val_loss: 0.0464 - val_mean_absolute_error: 0.0464\n",
      "Epoch 34/75\n",
      "16824/16824 [==============================] - 2s 129us/sample - loss: 0.0451 - mean_absolute_error: 0.0451 - val_loss: 0.0461 - val_mean_absolute_error: 0.0461\n",
      "Epoch 35/75\n",
      "16824/16824 [==============================] - 2s 132us/sample - loss: 0.0449 - mean_absolute_error: 0.0449 - val_loss: 0.0458 - val_mean_absolute_error: 0.0458\n",
      "Epoch 36/75\n",
      "16824/16824 [==============================] - 2s 127us/sample - loss: 0.0450 - mean_absolute_error: 0.0450 - val_loss: 0.0462 - val_mean_absolute_error: 0.0462\n",
      "Epoch 37/75\n",
      "16824/16824 [==============================] - 2s 127us/sample - loss: 0.0450 - mean_absolute_error: 0.0450 - val_loss: 0.0457 - val_mean_absolute_error: 0.0457\n",
      "Epoch 38/75\n",
      "16824/16824 [==============================] - 2s 125us/sample - loss: 0.0449 - mean_absolute_error: 0.0449 - val_loss: 0.0455 - val_mean_absolute_error: 0.0455\n",
      "Epoch 39/75\n",
      "16824/16824 [==============================] - 2s 123us/sample - loss: 0.0448 - mean_absolute_error: 0.0448 - val_loss: 0.0453 - val_mean_absolute_error: 0.0453\n",
      "Epoch 40/75\n",
      "16824/16824 [==============================] - 2s 124us/sample - loss: 0.0448 - mean_absolute_error: 0.0448 - val_loss: 0.0457 - val_mean_absolute_error: 0.0457\n",
      "Epoch 41/75\n",
      "16824/16824 [==============================] - 2s 124us/sample - loss: 0.0448 - mean_absolute_error: 0.0448 - val_loss: 0.0478 - val_mean_absolute_error: 0.0478\n",
      "Epoch 42/75\n",
      "16824/16824 [==============================] - 2s 127us/sample - loss: 0.0449 - mean_absolute_error: 0.0449 - val_loss: 0.0463 - val_mean_absolute_error: 0.0463\n",
      "Epoch 43/75\n",
      "16824/16824 [==============================] - 2s 145us/sample - loss: 0.0448 - mean_absolute_error: 0.0448 - val_loss: 0.0455 - val_mean_absolute_error: 0.0455\n",
      "Epoch 44/75\n",
      "16824/16824 [==============================] - 2s 123us/sample - loss: 0.0446 - mean_absolute_error: 0.0446 - val_loss: 0.0463 - val_mean_absolute_error: 0.0463\n",
      "Epoch 45/75\n",
      "16824/16824 [==============================] - 2s 126us/sample - loss: 0.0446 - mean_absolute_error: 0.0446 - val_loss: 0.0452 - val_mean_absolute_error: 0.0452\n",
      "Epoch 46/75\n",
      "16824/16824 [==============================] - 2s 129us/sample - loss: 0.0447 - mean_absolute_error: 0.0447 - val_loss: 0.0457 - val_mean_absolute_error: 0.0457\n",
      "Epoch 47/75\n",
      "16824/16824 [==============================] - 2s 129us/sample - loss: 0.0447 - mean_absolute_error: 0.0447 - val_loss: 0.0475 - val_mean_absolute_error: 0.0475\n",
      "Epoch 48/75\n",
      "16824/16824 [==============================] - 2s 120us/sample - loss: 0.0444 - mean_absolute_error: 0.0444 - val_loss: 0.0462 - val_mean_absolute_error: 0.0462\n",
      "Epoch 49/75\n",
      "16824/16824 [==============================] - 2s 117us/sample - loss: 0.0446 - mean_absolute_error: 0.0446 - val_loss: 0.0456 - val_mean_absolute_error: 0.0456\n",
      "Epoch 50/75\n",
      "16824/16824 [==============================] - 2s 118us/sample - loss: 0.0447 - mean_absolute_error: 0.0447 - val_loss: 0.0469 - val_mean_absolute_error: 0.0469\n",
      "Epoch 51/75\n",
      "16824/16824 [==============================] - 2s 115us/sample - loss: 0.0447 - mean_absolute_error: 0.0447 - val_loss: 0.0452 - val_mean_absolute_error: 0.0452\n",
      "Epoch 52/75\n",
      "16824/16824 [==============================] - 2s 137us/sample - loss: 0.0445 - mean_absolute_error: 0.0445 - val_loss: 0.0456 - val_mean_absolute_error: 0.0456\n",
      "Epoch 53/75\n",
      "16824/16824 [==============================] - 2s 122us/sample - loss: 0.0445 - mean_absolute_error: 0.0445 - val_loss: 0.0458 - val_mean_absolute_error: 0.0458\n",
      "Epoch 54/75\n",
      "16824/16824 [==============================] - 2s 119us/sample - loss: 0.0445 - mean_absolute_error: 0.0445 - val_loss: 0.0451 - val_mean_absolute_error: 0.0451\n",
      "Epoch 55/75\n",
      "16824/16824 [==============================] - 2s 119us/sample - loss: 0.0443 - mean_absolute_error: 0.0443 - val_loss: 0.0454 - val_mean_absolute_error: 0.0454\n",
      "Epoch 56/75\n",
      "16824/16824 [==============================] - 2s 120us/sample - loss: 0.0445 - mean_absolute_error: 0.0445 - val_loss: 0.0451 - val_mean_absolute_error: 0.0451\n",
      "Epoch 57/75\n",
      "16824/16824 [==============================] - 2s 121us/sample - loss: 0.0444 - mean_absolute_error: 0.0444 - val_loss: 0.0452 - val_mean_absolute_error: 0.0452\n",
      "Epoch 58/75\n",
      "16824/16824 [==============================] - 2s 121us/sample - loss: 0.0444 - mean_absolute_error: 0.0444 - val_loss: 0.0455 - val_mean_absolute_error: 0.0455\n",
      "Epoch 59/75\n",
      "16824/16824 [==============================] - 2s 134us/sample - loss: 0.0445 - mean_absolute_error: 0.0445 - val_loss: 0.0449 - val_mean_absolute_error: 0.0449\n",
      "Epoch 60/75\n",
      "16824/16824 [==============================] - 2s 117us/sample - loss: 0.0442 - mean_absolute_error: 0.0442 - val_loss: 0.0451 - val_mean_absolute_error: 0.0451\n",
      "Epoch 61/75\n",
      "16824/16824 [==============================] - 2s 114us/sample - loss: 0.0444 - mean_absolute_error: 0.0444 - val_loss: 0.0464 - val_mean_absolute_error: 0.0464\n",
      "Epoch 62/75\n",
      "16824/16824 [==============================] - 2s 119us/sample - loss: 0.0442 - mean_absolute_error: 0.0442 - val_loss: 0.0455 - val_mean_absolute_error: 0.0455\n",
      "Epoch 63/75\n",
      "16824/16824 [==============================] - 2s 119us/sample - loss: 0.0443 - mean_absolute_error: 0.0443 - val_loss: 0.0464 - val_mean_absolute_error: 0.0464\n",
      "Epoch 64/75\n",
      "16824/16824 [==============================] - 2s 124us/sample - loss: 0.0443 - mean_absolute_error: 0.0443 - val_loss: 0.0449 - val_mean_absolute_error: 0.0449\n",
      "Epoch 65/75\n",
      "16824/16824 [==============================] - 2s 116us/sample - loss: 0.0443 - mean_absolute_error: 0.0443 - val_loss: 0.0455 - val_mean_absolute_error: 0.0455\n",
      "Epoch 66/75\n",
      "16824/16824 [==============================] - 2s 119us/sample - loss: 0.0443 - mean_absolute_error: 0.0443 - val_loss: 0.0455 - val_mean_absolute_error: 0.0455\n",
      "Epoch 67/75\n",
      "16824/16824 [==============================] - 2s 118us/sample - loss: 0.0442 - mean_absolute_error: 0.0442 - val_loss: 0.0467 - val_mean_absolute_error: 0.0467\n",
      "Epoch 68/75\n",
      "16824/16824 [==============================] - 2s 116us/sample - loss: 0.0443 - mean_absolute_error: 0.0443 - val_loss: 0.0449 - val_mean_absolute_error: 0.0449\n",
      "Epoch 69/75\n",
      "16824/16824 [==============================] - 2s 122us/sample - loss: 0.0440 - mean_absolute_error: 0.0440 - val_loss: 0.0452 - val_mean_absolute_error: 0.0452\n",
      "Epoch 70/75\n",
      "16824/16824 [==============================] - 2s 121us/sample - loss: 0.0441 - mean_absolute_error: 0.0441 - val_loss: 0.0449 - val_mean_absolute_error: 0.0449\n",
      "Epoch 71/75\n",
      "16824/16824 [==============================] - 2s 121us/sample - loss: 0.0440 - mean_absolute_error: 0.0440 - val_loss: 0.0446 - val_mean_absolute_error: 0.0446\n",
      "Epoch 72/75\n",
      "16824/16824 [==============================] - 2s 135us/sample - loss: 0.0441 - mean_absolute_error: 0.0441 - val_loss: 0.0458 - val_mean_absolute_error: 0.0458\n",
      "Epoch 73/75\n",
      "16824/16824 [==============================] - 2s 125us/sample - loss: 0.0440 - mean_absolute_error: 0.0440 - val_loss: 0.0451 - val_mean_absolute_error: 0.0451\n",
      "Epoch 74/75\n",
      "16824/16824 [==============================] - 2s 122us/sample - loss: 0.0440 - mean_absolute_error: 0.0440 - val_loss: 0.0448 - val_mean_absolute_error: 0.0448\n",
      "Epoch 75/75\n",
      "16824/16824 [==============================] - 2s 123us/sample - loss: 0.0440 - mean_absolute_error: 0.0440 - val_loss: 0.0448 - val_mean_absolute_error: 0.0448\n"
     ]
    },
    {
     "data": {
      "text/plain": [
       "<tensorflow.python.keras.callbacks.History at 0x138cc57f0>"
      ]
     },
     "execution_count": 25,
     "metadata": {},
     "output_type": "execute_result"
    }
   ],
   "source": [
    "NN_model.fit(X_train, Y_train, epochs = 75, validation_data = (X_validation, Y_validation))"
   ]
  },
  {
   "cell_type": "code",
   "execution_count": 26,
   "metadata": {},
   "outputs": [],
   "source": [
    "Y_test = NN_model.predict(X_validation)"
   ]
  },
  {
   "cell_type": "code",
   "execution_count": 27,
   "metadata": {},
   "outputs": [
    {
     "name": "stdout",
     "output_type": "stream",
     "text": [
      "0.04478363309788139\n"
     ]
    }
   ],
   "source": [
    "print(mean_absolute_error(Y_validation, NN_model.predict(X_validation).reshape(-1)))"
   ]
  },
  {
   "cell_type": "code",
   "execution_count": 28,
   "metadata": {},
   "outputs": [
    {
     "name": "stdout",
     "output_type": "stream",
     "text": [
      "Saved model to disk\n"
     ]
    }
   ],
   "source": [
    "# serialize model to JSON\n",
    "model_json = NN_model.to_json()\n",
    "with open(\"model.json\", \"w\") as json_file:\n",
    "    json_file.write(model_json)\n",
    "# serialize weights to HDF5\n",
    "NN_model.save_weights(\"model.h5\")\n",
    "print(\"Saved model to disk\")\n"
   ]
  },
  {
   "cell_type": "code",
   "execution_count": 29,
   "metadata": {},
   "outputs": [],
   "source": [
    "tf.keras.models.save_model(NN_model, \"whole_model\")"
   ]
  }
 ],
 "metadata": {
  "kernelspec": {
   "display_name": "Python 3",
   "language": "python",
   "name": "python3"
  },
  "language_info": {
   "codemirror_mode": {
    "name": "ipython",
    "version": 3
   },
   "file_extension": ".py",
   "mimetype": "text/x-python",
   "name": "python",
   "nbconvert_exporter": "python",
   "pygments_lexer": "ipython3",
   "version": "3.9.3"
  }
 },
 "nbformat": 4,
 "nbformat_minor": 2
}
